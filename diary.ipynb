{
 "cells": [
  {
   "cell_type": "code",
   "execution_count": 1,
   "id": "f306783e-e46c-4188-a0e6-970b0cb9a004",
   "metadata": {},
   "outputs": [],
   "source": [
    "import nltk\n",
    "import glob\n",
    "from nltk.sentiment.vader import SentimentIntensityAnalyzer"
   ]
  },
  {
   "cell_type": "code",
   "execution_count": 2,
   "id": "f0ab0099-ccdf-47cc-a55f-a4019224f169",
   "metadata": {},
   "outputs": [
    {
     "name": "stderr",
     "output_type": "stream",
     "text": [
      "[nltk_data] Downloading package vader_lexicon to\n",
      "[nltk_data]     C:\\Users\\Predator\\AppData\\Roaming\\nltk_data...\n",
      "[nltk_data]   Package vader_lexicon is already up-to-date!\n"
     ]
    },
    {
     "data": {
      "text/plain": [
       "True"
      ]
     },
     "execution_count": 2,
     "metadata": {},
     "output_type": "execute_result"
    }
   ],
   "source": [
    "nltk.download('vader_lexicon')"
   ]
  },
  {
   "cell_type": "code",
   "execution_count": 3,
   "id": "036de17e-1066-4358-85ed-e753fbfeabcd",
   "metadata": {},
   "outputs": [],
   "source": [
    "directory = \"diary\"\n",
    "txt_files = []"
   ]
  },
  {
   "cell_type": "code",
   "execution_count": 17,
   "id": "0542c0a2-4db3-4c58-b1b9-c2e5d136e6d6",
   "metadata": {},
   "outputs": [],
   "source": [
    "for filename in glob.iglob(f\"{directory}/*\"):\n",
    "    with open(filename) as f:\n",
    "        contents = f.read()"
   ]
  },
  {
   "cell_type": "code",
   "execution_count": null,
   "id": "78144a95-e0da-4ec7-b214-1b6f110ed636",
   "metadata": {},
   "outputs": [],
   "source": [
    "txt_files = contents\n",
    "txt"
   ]
  },
  {
   "cell_type": "code",
   "execution_count": null,
   "id": "27e5f35f-b62c-4288-b31f-aaef5fd2aeac",
   "metadata": {},
   "outputs": [],
   "source": []
  }
 ],
 "metadata": {
  "kernelspec": {
   "display_name": "Python 3 (ipykernel)",
   "language": "python",
   "name": "python3"
  },
  "language_info": {
   "codemirror_mode": {
    "name": "ipython",
    "version": 3
   },
   "file_extension": ".py",
   "mimetype": "text/x-python",
   "name": "python",
   "nbconvert_exporter": "python",
   "pygments_lexer": "ipython3",
   "version": "3.10.9"
  }
 },
 "nbformat": 4,
 "nbformat_minor": 5
}
